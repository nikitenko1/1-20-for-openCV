{
  "cells": [
    {
      "cell_type": "markdown",
      "id": "50a97490",
      "metadata": {
        "id": "50a97490"
      },
      "source": [
        "<p style=\"font-family:Roboto; font-size: 28px; color: magenta\"> Python for OpenCV: How to Check for Blurry Images in Your Dataset Using the Laplacian Method</p>"
      ]
    },
    {
      "cell_type": "code",
      "execution_count": null,
      "id": "b6997a1c",
      "metadata": {},
      "outputs": [
        {
          "data": {
            "text/plain": [
              "'OpenCV, short for Open Source Computer Vision Library, is an open-source computer vision and \\nmachine learning software library. \\nOriginally developed by Intel, it is now maintained by a community of developers under the OpenCV Foundation'"
            ]
          },
          "execution_count": 150,
          "metadata": {},
          "output_type": "execute_result"
        }
      ],
      "source": [
        "'''The Laplacian method is a mathematical technique used primarily in image processing to detect edges in an image'''"
      ]
    },
    {
      "cell_type": "markdown",
      "id": "82e93662",
      "metadata": {},
      "source": [
        "<p style=\"font-family:consolas; font-size: 24px; color: olive\"> Key Concepts of the Laplacian Method:</p>"
      ]
    },
    {
      "cell_type": "markdown",
      "id": "9b3ef1aa",
      "metadata": {},
      "source": [
        "<p style=\"font-family:consolas; font-size: 24px; color: olive\"> 1. Laplacian Operator:</p>"
      ]
    },
    {
      "cell_type": "markdown",
      "id": "654a6c47",
      "metadata": {},
      "source": [
        "<p style=\"font-family:consolas; font-size: 24px; color: olive\"> 2. Edge Detection:</p>"
      ]
    },
    {
      "cell_type": "markdown",
      "id": "1468ece9",
      "metadata": {},
      "source": [
        "<p style=\"font-family:consolas; font-size: 24px; color: olive\"> 3. Blurriness Detection:</p>"
      ]
    },
    {
      "cell_type": "code",
      "execution_count": null,
      "id": "df7d7f67",
      "metadata": {},
      "outputs": [],
      "source": [
        "'''\n",
        "Why Use the Laplacian Method for Blur Detection?\n",
        "The primary advantage of the Laplacian method is its simplicity and effectiveness. \n",
        "By calculating the variance of the Laplacian of an image, \n",
        "you can quantify the amount of detail (or lack thereof) present in the image\n",
        "'''"
      ]
    },
    {
      "cell_type": "markdown",
      "id": "4e58940f",
      "metadata": {},
      "source": [
        "<p style=\"font-family:Roboto; font-size: 22px; color: orange; text-decoration-line: overline; \"> Part: _Important types of blurring:</p>"
      ]
    },
    {
      "cell_type": "code",
      "execution_count": 1,
      "id": "3b53463f",
      "metadata": {},
      "outputs": [],
      "source": [
        "import cv2\n",
        "import numpy as np\n",
        "import tensorflow as tf\n",
        "import matplotlib.pyplot as plt"
      ]
    },
    {
      "cell_type": "markdown",
      "id": "07f046a6",
      "metadata": {},
      "source": [
        "<p style=\"font-family:Roboto; font-size: 22px; color: orange; text-decoration-line: overline; \"> Part: _Load the CIFAR-10 Dataset</p>"
      ]
    },
    {
      "cell_type": "code",
      "execution_count": 2,
      "id": "bd9c6fcf",
      "metadata": {},
      "outputs": [
        {
          "name": "stdout",
          "output_type": "stream",
          "text": [
            "Downloading data from https://www.cs.toronto.edu/~kriz/cifar-10-python.tar.gz\n",
            "\u001b[1m 48996352/170498071\u001b[0m \u001b[32m━━━━━\u001b[0m\u001b[37m━━━━━━━━━━━━━━━\u001b[0m \u001b[1m7:20\u001b[0m 4us/step"
          ]
        }
      ],
      "source": [
        "(x_train, y_train), (x_test, y_test) = tf.keras.datasets.cifar10.load_data()"
      ]
    },
    {
      "cell_type": "markdown",
      "id": "3fb5eaab",
      "metadata": {},
      "source": [
        "<p style=\"font-family:Roboto; font-size: 22px; color: orange; text-decoration-line: overline; \"> Part: _Define the Blurriness Detection Function</p>"
      ]
    },
    {
      "cell_type": "code",
      "execution_count": 4,
      "id": "d62b3476",
      "metadata": {},
      "outputs": [],
      "source": [
        "'''The function converts the image to grayscale, applies the Laplacian operator, and calculates the variance.\n",
        "If the variance is below a certain threshold, the image is considered blurry.'''\n",
        "def is_blurry(image, threshold=100.0):\n",
        "    # Convert the image to grayscale\n",
        "    gray_image = cv2.cvtColor(image, cv2.COLOR_BGR2GRAY)\n",
        "\n",
        "    # Compute the Laplacian of the image and then the variance\n",
        "    laplacian_var = cv2.Laplacian(gray_image, cv2.CV_64F).var()\n",
        "\n",
        "    return laplacian_var < threshold, laplacian_var"
      ]
    },
    {
      "cell_type": "markdown",
      "id": "dfc31b42",
      "metadata": {},
      "source": [
        "<p style=\"font-family:Roboto; font-size: 22px; color: orange; text-decoration-line: overline; \"> Part: _Analyze the Dataset</p>"
      ]
    },
    {
      "cell_type": "code",
      "execution_count": 5,
      "id": "796e5943",
      "metadata": {},
      "outputs": [],
      "source": [
        "'''Initialize lists to store blurry and non-blurry images. \n",
        "Then, iterate over the dataset, convert each image from RGB to BGR (since OpenCV uses BGR format), \n",
        "and check if the image is blurry using the is_blurry function'''\n",
        "# Initialize lists to store images\n",
        "blurry_images = []\n",
        "not_blurry_images = []\n",
        "\n",
        "# Analyze the dataset\n",
        "for i in range(x_train.shape[0]):\n",
        "    # Convert the image from RGB to BGR (OpenCV uses BGR format)\n",
        "    image = cv2.cvtColor(x_train[i], cv2.COLOR_RGB2BGR)\n",
        "\n",
        "    # Check if the image is blurry\n",
        "    is_blur, _ = is_blurry(image)\n",
        "\n",
        "    if is_blur:\n",
        "        blurry_images.append(image)\n",
        "    else:\n",
        "        not_blurry_images.append(image)"
      ]
    },
    {
      "cell_type": "markdown",
      "id": "d243db25",
      "metadata": {},
      "source": [
        "<p style=\"font-family:Roboto; font-size: 22px; color: orange; text-decoration-line: overline; \"> Part: _Output the Results</p>"
      ]
    },
    {
      "cell_type": "code",
      "execution_count": 6,
      "id": "799ef93e",
      "metadata": {},
      "outputs": [
        {
          "name": "stdout",
          "output_type": "stream",
          "text": [
            "Total images: 50000\n",
            "Blurry images: 13\n",
            "Not blurry images: 49987\n",
            "Percentage of blurry images: 0.03%\n"
          ]
        }
      ],
      "source": [
        "'''After processing the entire dataset, output the total number of images, the count of blurry and non-blurry images, \n",
        "and the percentage of blurry images.'''\n",
        "# Output the results\n",
        "total_images = x_train.shape[0]\n",
        "blurry_count = len(blurry_images)\n",
        "not_blurry_count = len(not_blurry_images)\n",
        "\n",
        "print(f\"Total images: {total_images}\")\n",
        "print(f\"Blurry images: {blurry_count}\")\n",
        "print(f\"Not blurry images: {not_blurry_count}\")\n",
        "print(f\"Percentage of blurry images: {blurry_count / total_images * 100:.2f}%\")"
      ]
    },
    {
      "cell_type": "markdown",
      "id": "2013e93c",
      "metadata": {},
      "source": [
        "<p style=\"font-family:Roboto; font-size: 22px; color: orange; text-decoration-line: overline; \"> Part: _Visualize the Results</p>"
      ]
    },
    {
      "cell_type": "code",
      "execution_count": 7,
      "id": "238c32d8",
      "metadata": {},
      "outputs": [
        {
          "data": {
            "image/png": "[encoded data removed]",
            "text/plain": [
              "<Figure size 1000x500 with 5 Axes>"
            ]
          },
          "metadata": {},
          "output_type": "display_data"
        }
      ],
      "source": [
        "# Plot a few blurry and not blurry images to compare\n",
        "def plot_images(images, title, num_images=5):\n",
        "    plt.figure(figsize=(10, 5))\n",
        "    for i in range(num_images):\n",
        "        plt.subplot(1, num_images, i + 1)\n",
        "        plt.imshow(cv2.cvtColor(images[i], cv2.COLOR_BGR2RGB))\n",
        "        plt.axis('off')\n",
        "    plt.suptitle(title)\n",
        "    plt.show()\n",
        "\n",
        "# Plot blurry images\n",
        "if blurry_images:\n",
        "    plot_images(blurry_images, 'Blurry Images', min(5, len(blurry_images)))"
      ]
    }
  ],
  "metadata": {
    "accelerator": "GPU",
    "colab": {
      "gpuType": "T4",
      "provenance": []
    },
    "kernelspec": {
      "display_name": "base",
      "language": "python",
      "name": "python3"
    },
    "language_info": {
      "codemirror_mode": {
        "name": "ipython",
        "version": 3
      },
      "file_extension": ".py",
      "mimetype": "text/x-python",
      "name": "python",
      "nbconvert_exporter": "python",
      "pygments_lexer": "ipython3",
      "version": "3.12.7"
    }
  },
  "nbformat": 4,
  "nbformat_minor": 5
}
